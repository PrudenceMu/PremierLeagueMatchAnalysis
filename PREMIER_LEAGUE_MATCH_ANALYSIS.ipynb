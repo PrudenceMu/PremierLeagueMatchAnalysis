{
  "nbformat": 4,
  "nbformat_minor": 0,
  "metadata": {
    "colab": {
      "provenance": [],
      "toc_visible": true
    },
    "kernelspec": {
      "name": "python3",
      "display_name": "Python 3"
    },
    "language_info": {
      "name": "python"
    }
  },
  "cells": [
    {
      "cell_type": "code",
      "execution_count": null,
      "metadata": {
        "id": "lxs7thALyn42"
      },
      "outputs": [],
      "source": [
        "import pandas as pd\n",
        "import matplotlib.pyplot as plt"
      ]
    },
    {
      "cell_type": "code",
      "source": [
        "data = pd.read_csv(\"/content/matches.csv\")"
      ],
      "metadata": {
        "id": "EUmeErjEyvdy"
      },
      "execution_count": null,
      "outputs": []
    },
    {
      "cell_type": "code",
      "source": [
        "data['Result'].value_counts(normalize=True)"
      ],
      "metadata": {
        "colab": {
          "base_uri": "https://localhost:8080/"
        },
        "id": "PzZey00W0elv",
        "outputId": "843b71c8-80dc-4a90-b938-66b9e2ef4a20"
      },
      "execution_count": null,
      "outputs": [
        {
          "output_type": "execute_result",
          "data": {
            "text/plain": [
              "W    0.394737\n",
              "L    0.394737\n",
              "D    0.210526\n",
              "Name: Result, dtype: float64"
            ]
          },
          "metadata": {},
          "execution_count": 8
        }
      ]
    },
    {
      "cell_type": "code",
      "source": [
        "data.groupby('Team')['GF'].mean()"
      ],
      "metadata": {
        "colab": {
          "base_uri": "https://localhost:8080/"
        },
        "id": "zQd_o9eQ03_K",
        "outputId": "0ec6aee3-61ca-4903-8ba1-5bc4372c2fc5"
      },
      "execution_count": null,
      "outputs": [
        {
          "output_type": "execute_result",
          "data": {
            "text/plain": [
              "Team\n",
              "Arsenal                   2.043478\n",
              "AstonVilla                2.130435\n",
              "Bournemouth               1.363636\n",
              "Brentford                 1.454545\n",
              "BrightonandHoveAlbion     1.826087\n",
              "Burnley                   1.043478\n",
              "Chelsea                   1.652174\n",
              "CrystalPalace             1.130435\n",
              "Everton                   1.130435\n",
              "Fulham                    1.304348\n",
              "Liverpool                 2.260870\n",
              "LutonTown                 1.454545\n",
              "ManchesterCity            2.454545\n",
              "ManchesterUnited          1.347826\n",
              "NewcastleUnited           2.086957\n",
              "NottinghamForest          1.217391\n",
              "SheffieldUnited           0.826087\n",
              "TottenhamHotspur          2.130435\n",
              "WestHamUnited             1.565217\n",
              "WolverhamptonWanderers    1.608696\n",
              "Name: GF, dtype: float64"
            ]
          },
          "metadata": {},
          "execution_count": 9
        }
      ]
    },
    {
      "cell_type": "code",
      "source": [
        "data.groupby('Team')['GA'].mean()"
      ],
      "metadata": {
        "colab": {
          "base_uri": "https://localhost:8080/"
        },
        "id": "EqaU42fR1L8y",
        "outputId": "39a06e56-1491-4257-94a6-8d17810db6c2"
      },
      "execution_count": null,
      "outputs": [
        {
          "output_type": "execute_result",
          "data": {
            "text/plain": [
              "Team\n",
              "Arsenal                   0.956522\n",
              "AstonVilla                1.304348\n",
              "Bournemouth               1.863636\n",
              "Brentford                 1.772727\n",
              "BrightonandHoveAlbion     1.652174\n",
              "Burnley                   2.043478\n",
              "Chelsea                   1.695652\n",
              "CrystalPalace             1.739130\n",
              "Everton                   1.304348\n",
              "Fulham                    1.652174\n",
              "Liverpool                 0.956522\n",
              "LutonTown                 1.909091\n",
              "ManchesterCity            1.136364\n",
              "ManchesterUnited          1.391304\n",
              "NewcastleUnited           1.608696\n",
              "NottinghamForest          1.782609\n",
              "SheffieldUnited           2.565217\n",
              "TottenhamHotspur          1.521739\n",
              "WestHamUnited             1.565217\n",
              "WolverhamptonWanderers    1.608696\n",
              "Name: GA, dtype: float64"
            ]
          },
          "metadata": {},
          "execution_count": 10
        }
      ]
    },
    {
      "cell_type": "code",
      "source": [
        "#create bar chart\n",
        "plt.bar(data['Team'], data['GF'])\n",
        "plt.xlabel(\"Team\")\n",
        "plt.ylabel(\"Goals For\")\n",
        "plt.title(\"Average Goals For by Team\")\n",
        "plt.show()"
      ],
      "metadata": {
        "colab": {
          "base_uri": "https://localhost:8080/",
          "height": 211
        },
        "id": "cCMV8Vme2NyR",
        "outputId": "ecc8e4d7-cec6-41c6-d3fc-2c604632d5e8"
      },
      "execution_count": null,
      "outputs": [
        {
          "output_type": "error",
          "ename": "NameError",
          "evalue": "name 'data' is not defined",
          "traceback": [
            "\u001b[0;31m---------------------------------------------------------------------------\u001b[0m",
            "\u001b[0;31mNameError\u001b[0m                                 Traceback (most recent call last)",
            "\u001b[0;32m<ipython-input-3-3049077a1d36>\u001b[0m in \u001b[0;36m<cell line: 2>\u001b[0;34m()\u001b[0m\n\u001b[1;32m      1\u001b[0m \u001b[0;31m#create bar chart\u001b[0m\u001b[0;34m\u001b[0m\u001b[0;34m\u001b[0m\u001b[0m\n\u001b[0;32m----> 2\u001b[0;31m \u001b[0mplt\u001b[0m\u001b[0;34m.\u001b[0m\u001b[0mbar\u001b[0m\u001b[0;34m(\u001b[0m\u001b[0mdata\u001b[0m\u001b[0;34m[\u001b[0m\u001b[0;34m'Team'\u001b[0m\u001b[0;34m]\u001b[0m\u001b[0;34m,\u001b[0m \u001b[0mdata\u001b[0m\u001b[0;34m[\u001b[0m\u001b[0;34m'GF'\u001b[0m\u001b[0;34m]\u001b[0m\u001b[0;34m)\u001b[0m\u001b[0;34m\u001b[0m\u001b[0;34m\u001b[0m\u001b[0m\n\u001b[0m\u001b[1;32m      3\u001b[0m \u001b[0mplt\u001b[0m\u001b[0;34m.\u001b[0m\u001b[0mxlabel\u001b[0m\u001b[0;34m(\u001b[0m\u001b[0;34m\"Team\"\u001b[0m\u001b[0;34m)\u001b[0m\u001b[0;34m\u001b[0m\u001b[0;34m\u001b[0m\u001b[0m\n\u001b[1;32m      4\u001b[0m \u001b[0mplt\u001b[0m\u001b[0;34m.\u001b[0m\u001b[0mylabel\u001b[0m\u001b[0;34m(\u001b[0m\u001b[0;34m\"Goals For\"\u001b[0m\u001b[0;34m)\u001b[0m\u001b[0;34m\u001b[0m\u001b[0;34m\u001b[0m\u001b[0m\n\u001b[1;32m      5\u001b[0m \u001b[0mplt\u001b[0m\u001b[0;34m.\u001b[0m\u001b[0mtitle\u001b[0m\u001b[0;34m(\u001b[0m\u001b[0;34m\"Average Goals For by Team\"\u001b[0m\u001b[0;34m)\u001b[0m\u001b[0;34m\u001b[0m\u001b[0;34m\u001b[0m\u001b[0m\n",
            "\u001b[0;31mNameError\u001b[0m: name 'data' is not defined"
          ]
        }
      ]
    },
    {
      "cell_type": "code",
      "source": [
        "import pandas as pd\n",
        "import matplotlib.pyplot as plt\n",
        "\n",
        "# Calculate win rates for each team\n",
        "win_rates = data['Result'].value_counts(normalize=True) * 100  # Multiply by 100 for percentage\n",
        "\n",
        "# Create the bar chart\n",
        "plt.figure(figsize=(12, 6))\n",
        "win_rates.plot(kind='bar', color='skyblue', edgecolor='black')\n",
        "plt.title('Win Rates (%) Across Teams')\n",
        "plt.xlabel('Team')\n",
        "plt.ylabel('Win Rate (%)')\n",
        "plt.xticks(rotation=45, ha='right')  # Rotate team names for better readability\n",
        "plt.tight_layout()\n",
        "plt.show()"
      ],
      "metadata": {
        "colab": {
          "base_uri": "https://localhost:8080/",
          "height": 374
        },
        "id": "m23cF0MO0CfO",
        "outputId": "2c45b880-6151-4e7a-fdd8-323e93970d5c"
      },
      "execution_count": null,
      "outputs": [
        {
          "output_type": "display_data",
          "data": {
            "text/plain": [
              "<Figure size 1200x600 with 1 Axes>"
            ],
            "image/png": "[encoded data removed]"
          },
          "metadata": {}
        }
      ]
    }
  ]
}